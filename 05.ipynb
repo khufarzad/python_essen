{
 "cells": [
  {
   "cell_type": "code",
   "execution_count": 1,
   "id": "e7d96240-84bf-4c81-9c73-44541e773236",
   "metadata": {},
   "outputs": [],
   "source": [
    "def plus(a, b):\n",
    "    result = a + b\n",
    "    return result"
   ]
  },
  {
   "cell_type": "code",
   "execution_count": 2,
   "id": "3be3b3da-0789-4598-abde-5b19b3d31c15",
   "metadata": {},
   "outputs": [
    {
     "name": "stdout",
     "output_type": "stream",
     "text": [
      "10\n"
     ]
    }
   ],
   "source": [
    "r = plus(4, 6)\n",
    "print(r)"
   ]
  },
  {
   "cell_type": "code",
   "execution_count": 3,
   "id": "54b5107f-1b83-4fee-957d-3c3e4c96ef1b",
   "metadata": {},
   "outputs": [],
   "source": [
    "l1 = [1, 5, 8, 9, 7, 1, 3, 5]"
   ]
  },
  {
   "cell_type": "code",
   "execution_count": 4,
   "id": "bfe08bf2-8f5c-4c15-91a6-219faa5b6104",
   "metadata": {},
   "outputs": [
    {
     "name": "stdout",
     "output_type": "stream",
     "text": [
      "total: 39\n"
     ]
    }
   ],
   "source": [
    "total = sum(l1)\n",
    "print('total:', total)"
   ]
  },
  {
   "cell_type": "code",
   "execution_count": 5,
   "id": "cb7064c8-0c02-4697-8960-a80c650cc241",
   "metadata": {},
   "outputs": [],
   "source": [
    "def mysum(l1):\n",
    "    '''\n",
    "    arg\n",
    "    out\n",
    "    desc\n",
    "    '''\n",
    "    total = 0\n",
    "    for i in l1:\n",
    "        total += i\n",
    "    return total"
   ]
  },
  {
   "cell_type": "code",
   "execution_count": 6,
   "id": "e8958d9c-068c-44f5-af2f-eff0715cae3e",
   "metadata": {},
   "outputs": [
    {
     "name": "stdout",
     "output_type": "stream",
     "text": [
      "sum_: 39\n"
     ]
    }
   ],
   "source": [
    "sum_ = mysum(l1)\n",
    "print('sum_:', sum_)"
   ]
  },
  {
   "cell_type": "code",
   "execution_count": 7,
   "id": "bfb146ff-06d7-4daa-943c-886b0137e6d0",
   "metadata": {},
   "outputs": [
    {
     "name": "stdout",
     "output_type": "stream",
     "text": [
      "5\n"
     ]
    }
   ],
   "source": [
    "a = -5\n",
    "print(abs(a))"
   ]
  },
  {
   "cell_type": "code",
   "execution_count": 8,
   "id": "601a30d0-6ef6-4806-a777-e7d38763023a",
   "metadata": {},
   "outputs": [],
   "source": [
    "def absolute(n):\n",
    "    if n >= 0:\n",
    "        return n\n",
    "    else:\n",
    "        return -n"
   ]
  },
  {
   "cell_type": "code",
   "execution_count": 9,
   "id": "7bcc6787-6e0c-4ae0-a8ba-bef28b39109a",
   "metadata": {},
   "outputs": [
    {
     "name": "stdout",
     "output_type": "stream",
     "text": [
      "5\n"
     ]
    }
   ],
   "source": [
    "print(absolute(a))"
   ]
  },
  {
   "cell_type": "code",
   "execution_count": 10,
   "id": "f8c225d7-c2e6-408a-aeac-1f75116b5b4f",
   "metadata": {},
   "outputs": [],
   "source": [
    "def operators(a, b):\n",
    "    pl = a + b\n",
    "    mi = a - b\n",
    "    return pl, mi"
   ]
  },
  {
   "cell_type": "code",
   "execution_count": 11,
   "id": "ed0c8fca-e2bb-485f-91a6-3e2d791c503d",
   "metadata": {},
   "outputs": [
    {
     "name": "stdout",
     "output_type": "stream",
     "text": [
      "x: 8\n",
      "y: 2\n"
     ]
    }
   ],
   "source": [
    "x, y = operators(b=3, a=5)\n",
    "print('x:', x)\n",
    "print('y:', y)"
   ]
  },
  {
   "cell_type": "code",
   "execution_count": null,
   "id": "1cbb992d-86e9-4040-8fca-f1ef068b4b67",
   "metadata": {},
   "outputs": [],
   "source": []
  }
 ],
 "metadata": {
  "kernelspec": {
   "display_name": "Python 3 (ipykernel)",
   "language": "python",
   "name": "python3"
  },
  "language_info": {
   "codemirror_mode": {
    "name": "ipython",
    "version": 3
   },
   "file_extension": ".py",
   "mimetype": "text/x-python",
   "name": "python",
   "nbconvert_exporter": "python",
   "pygments_lexer": "ipython3",
   "version": "3.10.5"
  }
 },
 "nbformat": 4,
 "nbformat_minor": 5
}
